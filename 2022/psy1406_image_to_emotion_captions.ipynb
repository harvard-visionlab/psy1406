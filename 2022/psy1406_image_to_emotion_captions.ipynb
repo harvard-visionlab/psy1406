{
  "nbformat": 4,
  "nbformat_minor": 0,
  "metadata": {
    "colab": {
      "name": "psy1406_image_to_emotion_captions.ipynb",
      "provenance": [],
      "collapsed_sections": [
        "8-MEpHkboexa",
        "qdH0fzvEpACJ",
        "3Yc6E0ikpC22",
        "Ds81-Y1QyP0Y",
        "7q5Z2xBJoi1E"
      ],
      "authorship_tag": "ABX9TyPUNZevQSEshGKvDC64zWsl",
      "include_colab_link": true
    },
    "kernelspec": {
      "name": "python3",
      "display_name": "Python 3"
    },
    "language_info": {
      "name": "python"
    },
    "widgets": {
      "application/vnd.jupyter.widget-state+json": {
        "b5bd246b8b5b48e38c8ae864ffe20cc0": {
          "model_module": "@jupyter-widgets/controls",
          "model_name": "HBoxModel",
          "model_module_version": "1.5.0",
          "state": {
            "_dom_classes": [],
            "_model_module": "@jupyter-widgets/controls",
            "_model_module_version": "1.5.0",
            "_model_name": "HBoxModel",
            "_view_count": null,
            "_view_module": "@jupyter-widgets/controls",
            "_view_module_version": "1.5.0",
            "_view_name": "HBoxView",
            "box_style": "",
            "children": [
              "IPY_MODEL_428e42b4431b40d8bd1891b7e7c4e7b3",
              "IPY_MODEL_eb18cc96e14c4c12a3446d50d0fc2c2d",
              "IPY_MODEL_7f75c9aaf034431bae548af6c31b5ae4"
            ],
            "layout": "IPY_MODEL_ddfac25e8bf94fedbec915893d3a62c7"
          }
        },
        "428e42b4431b40d8bd1891b7e7c4e7b3": {
          "model_module": "@jupyter-widgets/controls",
          "model_name": "HTMLModel",
          "model_module_version": "1.5.0",
          "state": {
            "_dom_classes": [],
            "_model_module": "@jupyter-widgets/controls",
            "_model_module_version": "1.5.0",
            "_model_name": "HTMLModel",
            "_view_count": null,
            "_view_module": "@jupyter-widgets/controls",
            "_view_module_version": "1.5.0",
            "_view_name": "HTMLView",
            "description": "",
            "description_tooltip": null,
            "layout": "IPY_MODEL_6cf8b4c0eaeb4c8fa4e690d655b6f1d1",
            "placeholder": "​",
            "style": "IPY_MODEL_e2c8fe5b066a4215b9937bd40e6c538c",
            "value": "100%"
          }
        },
        "eb18cc96e14c4c12a3446d50d0fc2c2d": {
          "model_module": "@jupyter-widgets/controls",
          "model_name": "FloatProgressModel",
          "model_module_version": "1.5.0",
          "state": {
            "_dom_classes": [],
            "_model_module": "@jupyter-widgets/controls",
            "_model_module_version": "1.5.0",
            "_model_name": "FloatProgressModel",
            "_view_count": null,
            "_view_module": "@jupyter-widgets/controls",
            "_view_module_version": "1.5.0",
            "_view_name": "ProgressView",
            "bar_style": "success",
            "description": "",
            "description_tooltip": null,
            "layout": "IPY_MODEL_1cb354ad8aa24e7fab88d0128bbb3112",
            "max": 87319819,
            "min": 0,
            "orientation": "horizontal",
            "style": "IPY_MODEL_f34ea1cd7af2458fb3211c6c3f2ba9ab",
            "value": 87319819
          }
        },
        "7f75c9aaf034431bae548af6c31b5ae4": {
          "model_module": "@jupyter-widgets/controls",
          "model_name": "HTMLModel",
          "model_module_version": "1.5.0",
          "state": {
            "_dom_classes": [],
            "_model_module": "@jupyter-widgets/controls",
            "_model_module_version": "1.5.0",
            "_model_name": "HTMLModel",
            "_view_count": null,
            "_view_module": "@jupyter-widgets/controls",
            "_view_module_version": "1.5.0",
            "_view_name": "HTMLView",
            "description": "",
            "description_tooltip": null,
            "layout": "IPY_MODEL_01071d0477b6444b94b88b3714c39463",
            "placeholder": "​",
            "style": "IPY_MODEL_7c87f3827d5f4b2a9fc1c48b228e71ac",
            "value": " 83.3M/83.3M [00:01&lt;00:00, 66.1MB/s]"
          }
        },
        "ddfac25e8bf94fedbec915893d3a62c7": {
          "model_module": "@jupyter-widgets/base",
          "model_name": "LayoutModel",
          "model_module_version": "1.2.0",
          "state": {
            "_model_module": "@jupyter-widgets/base",
            "_model_module_version": "1.2.0",
            "_model_name": "LayoutModel",
            "_view_count": null,
            "_view_module": "@jupyter-widgets/base",
            "_view_module_version": "1.2.0",
            "_view_name": "LayoutView",
            "align_content": null,
            "align_items": null,
            "align_self": null,
            "border": null,
            "bottom": null,
            "display": null,
            "flex": null,
            "flex_flow": null,
            "grid_area": null,
            "grid_auto_columns": null,
            "grid_auto_flow": null,
            "grid_auto_rows": null,
            "grid_column": null,
            "grid_gap": null,
            "grid_row": null,
            "grid_template_areas": null,
            "grid_template_columns": null,
            "grid_template_rows": null,
            "height": null,
            "justify_content": null,
            "justify_items": null,
            "left": null,
            "margin": null,
            "max_height": null,
            "max_width": null,
            "min_height": null,
            "min_width": null,
            "object_fit": null,
            "object_position": null,
            "order": null,
            "overflow": null,
            "overflow_x": null,
            "overflow_y": null,
            "padding": null,
            "right": null,
            "top": null,
            "visibility": null,
            "width": null
          }
        },
        "6cf8b4c0eaeb4c8fa4e690d655b6f1d1": {
          "model_module": "@jupyter-widgets/base",
          "model_name": "LayoutModel",
          "model_module_version": "1.2.0",
          "state": {
            "_model_module": "@jupyter-widgets/base",
            "_model_module_version": "1.2.0",
            "_model_name": "LayoutModel",
            "_view_count": null,
            "_view_module": "@jupyter-widgets/base",
            "_view_module_version": "1.2.0",
            "_view_name": "LayoutView",
            "align_content": null,
            "align_items": null,
            "align_self": null,
            "border": null,
            "bottom": null,
            "display": null,
            "flex": null,
            "flex_flow": null,
            "grid_area": null,
            "grid_auto_columns": null,
            "grid_auto_flow": null,
            "grid_auto_rows": null,
            "grid_column": null,
            "grid_gap": null,
            "grid_row": null,
            "grid_template_areas": null,
            "grid_template_columns": null,
            "grid_template_rows": null,
            "height": null,
            "justify_content": null,
            "justify_items": null,
            "left": null,
            "margin": null,
            "max_height": null,
            "max_width": null,
            "min_height": null,
            "min_width": null,
            "object_fit": null,
            "object_position": null,
            "order": null,
            "overflow": null,
            "overflow_x": null,
            "overflow_y": null,
            "padding": null,
            "right": null,
            "top": null,
            "visibility": null,
            "width": null
          }
        },
        "e2c8fe5b066a4215b9937bd40e6c538c": {
          "model_module": "@jupyter-widgets/controls",
          "model_name": "DescriptionStyleModel",
          "model_module_version": "1.5.0",
          "state": {
            "_model_module": "@jupyter-widgets/controls",
            "_model_module_version": "1.5.0",
            "_model_name": "DescriptionStyleModel",
            "_view_count": null,
            "_view_module": "@jupyter-widgets/base",
            "_view_module_version": "1.2.0",
            "_view_name": "StyleView",
            "description_width": ""
          }
        },
        "1cb354ad8aa24e7fab88d0128bbb3112": {
          "model_module": "@jupyter-widgets/base",
          "model_name": "LayoutModel",
          "model_module_version": "1.2.0",
          "state": {
            "_model_module": "@jupyter-widgets/base",
            "_model_module_version": "1.2.0",
            "_model_name": "LayoutModel",
            "_view_count": null,
            "_view_module": "@jupyter-widgets/base",
            "_view_module_version": "1.2.0",
            "_view_name": "LayoutView",
            "align_content": null,
            "align_items": null,
            "align_self": null,
            "border": null,
            "bottom": null,
            "display": null,
            "flex": null,
            "flex_flow": null,
            "grid_area": null,
            "grid_auto_columns": null,
            "grid_auto_flow": null,
            "grid_auto_rows": null,
            "grid_column": null,
            "grid_gap": null,
            "grid_row": null,
            "grid_template_areas": null,
            "grid_template_columns": null,
            "grid_template_rows": null,
            "height": null,
            "justify_content": null,
            "justify_items": null,
            "left": null,
            "margin": null,
            "max_height": null,
            "max_width": null,
            "min_height": null,
            "min_width": null,
            "object_fit": null,
            "object_position": null,
            "order": null,
            "overflow": null,
            "overflow_x": null,
            "overflow_y": null,
            "padding": null,
            "right": null,
            "top": null,
            "visibility": null,
            "width": null
          }
        },
        "f34ea1cd7af2458fb3211c6c3f2ba9ab": {
          "model_module": "@jupyter-widgets/controls",
          "model_name": "ProgressStyleModel",
          "model_module_version": "1.5.0",
          "state": {
            "_model_module": "@jupyter-widgets/controls",
            "_model_module_version": "1.5.0",
            "_model_name": "ProgressStyleModel",
            "_view_count": null,
            "_view_module": "@jupyter-widgets/base",
            "_view_module_version": "1.2.0",
            "_view_name": "StyleView",
            "bar_color": null,
            "description_width": ""
          }
        },
        "01071d0477b6444b94b88b3714c39463": {
          "model_module": "@jupyter-widgets/base",
          "model_name": "LayoutModel",
          "model_module_version": "1.2.0",
          "state": {
            "_model_module": "@jupyter-widgets/base",
            "_model_module_version": "1.2.0",
            "_model_name": "LayoutModel",
            "_view_count": null,
            "_view_module": "@jupyter-widgets/base",
            "_view_module_version": "1.2.0",
            "_view_name": "LayoutView",
            "align_content": null,
            "align_items": null,
            "align_self": null,
            "border": null,
            "bottom": null,
            "display": null,
            "flex": null,
            "flex_flow": null,
            "grid_area": null,
            "grid_auto_columns": null,
            "grid_auto_flow": null,
            "grid_auto_rows": null,
            "grid_column": null,
            "grid_gap": null,
            "grid_row": null,
            "grid_template_areas": null,
            "grid_template_columns": null,
            "grid_template_rows": null,
            "height": null,
            "justify_content": null,
            "justify_items": null,
            "left": null,
            "margin": null,
            "max_height": null,
            "max_width": null,
            "min_height": null,
            "min_width": null,
            "object_fit": null,
            "object_position": null,
            "order": null,
            "overflow": null,
            "overflow_x": null,
            "overflow_y": null,
            "padding": null,
            "right": null,
            "top": null,
            "visibility": null,
            "width": null
          }
        },
        "7c87f3827d5f4b2a9fc1c48b228e71ac": {
          "model_module": "@jupyter-widgets/controls",
          "model_name": "DescriptionStyleModel",
          "model_module_version": "1.5.0",
          "state": {
            "_model_module": "@jupyter-widgets/controls",
            "_model_module_version": "1.5.0",
            "_model_name": "DescriptionStyleModel",
            "_view_count": null,
            "_view_module": "@jupyter-widgets/base",
            "_view_module_version": "1.2.0",
            "_view_name": "StyleView",
            "description_width": ""
          }
        }
      }
    }
  },
  "cells": [
    {
      "cell_type": "markdown",
      "metadata": {
        "id": "view-in-github",
        "colab_type": "text"
      },
      "source": [
        "<a href=\"https://colab.research.google.com/github/harvard-visionlab/psy1406/blob/main/2022/psy1406_image_to_emotion_captions.ipynb\" target=\"_parent\"><img src=\"https://colab.research.google.com/assets/colab-badge.svg\" alt=\"Open In Colab\"/></a>"
      ]
    },
    {
      "cell_type": "code",
      "execution_count": null,
      "metadata": {
        "id": "QBT4hlXGm13M"
      },
      "outputs": [],
      "source": [
        ""
      ]
    },
    {
      "cell_type": "markdown",
      "source": [
        "# using this project: https://github.com/optas/artemis\n",
        "\n"
      ],
      "metadata": {
        "id": "B_jUecW8m6TI"
      }
    },
    {
      "cell_type": "markdown",
      "source": [
        "# Step 0 - Downloads"
      ],
      "metadata": {
        "id": "8-MEpHkboexa"
      }
    },
    {
      "cell_type": "markdown",
      "source": [
        "## downloads"
      ],
      "metadata": {
        "id": "qdH0fzvEpACJ"
      }
    },
    {
      "cell_type": "code",
      "source": [
        "!wget -c https://www.dropbox.com/s/g24vdj1uou18uhc/best_model.pt"
      ],
      "metadata": {
        "colab": {
          "base_uri": "https://localhost:8080/"
        },
        "id": "Q1SAwyIlm-Gg",
        "outputId": "a721a5a3-8219-4deb-a0f8-ef39f242c4c7"
      },
      "execution_count": null,
      "outputs": [
        {
          "output_type": "stream",
          "name": "stdout",
          "text": [
            "--2022-04-15 13:45:25--  https://www.dropbox.com/s/g24vdj1uou18uhc/best_model.pt\n",
            "Resolving www.dropbox.com (www.dropbox.com)... 162.125.1.18, 2620:100:6016:18::a27d:112\n",
            "Connecting to www.dropbox.com (www.dropbox.com)|162.125.1.18|:443... connected.\n",
            "HTTP request sent, awaiting response... 301 Moved Permanently\n",
            "Location: /s/raw/g24vdj1uou18uhc/best_model.pt [following]\n",
            "--2022-04-15 13:45:26--  https://www.dropbox.com/s/raw/g24vdj1uou18uhc/best_model.pt\n",
            "Reusing existing connection to www.dropbox.com:443.\n",
            "HTTP request sent, awaiting response... 302 Found\n",
            "Location: https://uc2d791202bf69ac59ea8611e686.dl.dropboxusercontent.com/cd/0/inline/BjeR7Xlf1-H4gcH0KmYini8x81pPocj4d4v2vTf1sSPzBkLiuKZsrJ27W7G1u45y0-uLYpMuTiKzc9VHAJS-tQ0BDc8MrjXRY677JLUzIEbqMeCZWhBffAdb7EhQcpl6z-dBTb35z9cECG-Z32BQV7XOD99oUPXw-D5shkKF088jwg/file# [following]\n",
            "--2022-04-15 13:45:26--  https://uc2d791202bf69ac59ea8611e686.dl.dropboxusercontent.com/cd/0/inline/BjeR7Xlf1-H4gcH0KmYini8x81pPocj4d4v2vTf1sSPzBkLiuKZsrJ27W7G1u45y0-uLYpMuTiKzc9VHAJS-tQ0BDc8MrjXRY677JLUzIEbqMeCZWhBffAdb7EhQcpl6z-dBTb35z9cECG-Z32BQV7XOD99oUPXw-D5shkKF088jwg/file\n",
            "Resolving uc2d791202bf69ac59ea8611e686.dl.dropboxusercontent.com (uc2d791202bf69ac59ea8611e686.dl.dropboxusercontent.com)... 162.125.1.15, 2620:100:6016:15::a27d:10f\n",
            "Connecting to uc2d791202bf69ac59ea8611e686.dl.dropboxusercontent.com (uc2d791202bf69ac59ea8611e686.dl.dropboxusercontent.com)|162.125.1.15|:443... connected.\n",
            "HTTP request sent, awaiting response... 200 OK\n",
            "Length: 85505075 (82M) [text/plain]\n",
            "Saving to: ‘best_model.pt’\n",
            "\n",
            "best_model.pt       100%[===================>]  81.54M  22.3MB/s    in 17s     \n",
            "\n",
            "2022-04-15 13:45:44 (4.80 MB/s) - ‘best_model.pt’ saved [85505075/85505075]\n",
            "\n"
          ]
        }
      ]
    },
    {
      "cell_type": "code",
      "source": [
        "!wget -c https://www.dropbox.com/s/53iibgdwsg4vfzu/artemis_official_data.zip\n",
        "!unzip artemis_official_data.zip"
      ],
      "metadata": {
        "colab": {
          "base_uri": "https://localhost:8080/"
        },
        "id": "RWddHdwunPdd",
        "outputId": "499487f5-4c55-4922-9398-b53b733e276f"
      },
      "execution_count": null,
      "outputs": [
        {
          "output_type": "stream",
          "name": "stdout",
          "text": [
            "--2022-04-15 13:45:44--  https://www.dropbox.com/s/53iibgdwsg4vfzu/artemis_official_data.zip\n",
            "Resolving www.dropbox.com (www.dropbox.com)... 162.125.1.18, 2620:100:6016:18::a27d:112\n",
            "Connecting to www.dropbox.com (www.dropbox.com)|162.125.1.18|:443... connected.\n",
            "HTTP request sent, awaiting response... 301 Moved Permanently\n",
            "Location: /s/raw/53iibgdwsg4vfzu/artemis_official_data.zip [following]\n",
            "--2022-04-15 13:45:44--  https://www.dropbox.com/s/raw/53iibgdwsg4vfzu/artemis_official_data.zip\n",
            "Reusing existing connection to www.dropbox.com:443.\n",
            "HTTP request sent, awaiting response... 302 Found\n",
            "Location: https://uc36cd788dbd30f432205ba8110d.dl.dropboxusercontent.com/cd/0/inline/Bjee17M-q3QMtkSydjbe6aFqosU0kVI9EO1v4VTlAdwkJARt7gmmKvDDkxIJw8bmnBu2Aa5a308YuT8MjDMQnSUNZbjNGxy6Z8TLoZcMsztjLV6v3nG0P75l0unLMG4v2ykoDxRlTmqJBlodiWHoHqs7Jx-JsXcB-FL_NFzD6aY5cw/file# [following]\n",
            "--2022-04-15 13:45:44--  https://uc36cd788dbd30f432205ba8110d.dl.dropboxusercontent.com/cd/0/inline/Bjee17M-q3QMtkSydjbe6aFqosU0kVI9EO1v4VTlAdwkJARt7gmmKvDDkxIJw8bmnBu2Aa5a308YuT8MjDMQnSUNZbjNGxy6Z8TLoZcMsztjLV6v3nG0P75l0unLMG4v2ykoDxRlTmqJBlodiWHoHqs7Jx-JsXcB-FL_NFzD6aY5cw/file\n",
            "Resolving uc36cd788dbd30f432205ba8110d.dl.dropboxusercontent.com (uc36cd788dbd30f432205ba8110d.dl.dropboxusercontent.com)... 162.125.1.15, 2620:100:6016:15::a27d:10f\n",
            "Connecting to uc36cd788dbd30f432205ba8110d.dl.dropboxusercontent.com (uc36cd788dbd30f432205ba8110d.dl.dropboxusercontent.com)|162.125.1.15|:443... connected.\n",
            "HTTP request sent, awaiting response... 302 Found\n",
            "Location: /cd/0/inline2/Bjfnuxpabxn6k6EyyONmHSo6lLpjBOkMGAIoU1pyWImWO4jjglsIDXusklsHRqpFx3bj_YrHlfe-xzpYFgz1uqIloqhc-w5yKl33Mac016izvc9YHNfa4hxUxa8Kfdmy-KT6ipcM1cmqhzEQ3BG8AhRc_qxxOqCA22jOmyyCiuRt3lJ8G02IeyawLx1NbYXpVcLKOGDmLO4AnrXWmWeYaNaEVoddCwZHeRsEvzeMEnHMnFyP1uBrmrGscTpUnoNcE1xipExHQImvRzb3yZ8u1TT-8sPQ32SXeSqURNHBos3KWEaIsYIHuoRym1tLoxPItop_1V1H39VgpXgBW9XCMRyzwmL2bE_acxVOat6QbP0oaWNX_PfgmtCR92GGw01zI2TpvginQoJWBuwKaCYRS4AjobUSjoqDD_q_Dfs3nVgiMA/file [following]\n",
            "--2022-04-15 13:45:44--  https://uc36cd788dbd30f432205ba8110d.dl.dropboxusercontent.com/cd/0/inline2/Bjfnuxpabxn6k6EyyONmHSo6lLpjBOkMGAIoU1pyWImWO4jjglsIDXusklsHRqpFx3bj_YrHlfe-xzpYFgz1uqIloqhc-w5yKl33Mac016izvc9YHNfa4hxUxa8Kfdmy-KT6ipcM1cmqhzEQ3BG8AhRc_qxxOqCA22jOmyyCiuRt3lJ8G02IeyawLx1NbYXpVcLKOGDmLO4AnrXWmWeYaNaEVoddCwZHeRsEvzeMEnHMnFyP1uBrmrGscTpUnoNcE1xipExHQImvRzb3yZ8u1TT-8sPQ32SXeSqURNHBos3KWEaIsYIHuoRym1tLoxPItop_1V1H39VgpXgBW9XCMRyzwmL2bE_acxVOat6QbP0oaWNX_PfgmtCR92GGw01zI2TpvginQoJWBuwKaCYRS4AjobUSjoqDD_q_Dfs3nVgiMA/file\n",
            "Reusing existing connection to uc36cd788dbd30f432205ba8110d.dl.dropboxusercontent.com:443.\n",
            "HTTP request sent, awaiting response... 200 OK\n",
            "Length: 21842838 (21M) [application/zip]\n",
            "Saving to: ‘artemis_official_data.zip’\n",
            "\n",
            "artemis_official_da 100%[===================>]  20.83M  36.6MB/s    in 0.6s    \n",
            "\n",
            "2022-04-15 13:45:45 (36.6 MB/s) - ‘artemis_official_data.zip’ saved [21842838/21842838]\n",
            "\n",
            "Archive:  artemis_official_data.zip\n",
            "   creating: official_data/\n",
            "  inflating: official_data/ola_dataset_release_v0.csv  \n",
            "  inflating: official_data/README.txt  \n",
            "  inflating: official_data/artemis_dataset_release_v0.csv  \n"
          ]
        }
      ]
    },
    {
      "cell_type": "code",
      "source": [
        "!wget -c https://www.dropbox.com/s/3fh77q07ndsn23c/emo_grounded_sat_speaker_cvpr21.zip \n",
        "!unzip emo_grounded_sat_speaker_cvpr21.zip "
      ],
      "metadata": {
        "colab": {
          "base_uri": "https://localhost:8080/"
        },
        "id": "y8pFIeNjsrLc",
        "outputId": "044e33d6-37ca-465f-e93d-e0ec9438c26e"
      },
      "execution_count": null,
      "outputs": [
        {
          "output_type": "stream",
          "name": "stdout",
          "text": [
            "--2022-04-15 13:45:46--  https://www.dropbox.com/s/3fh77q07ndsn23c/emo_grounded_sat_speaker_cvpr21.zip\n",
            "Resolving www.dropbox.com (www.dropbox.com)... 162.125.1.18, 2620:100:6016:18::a27d:112\n",
            "Connecting to www.dropbox.com (www.dropbox.com)|162.125.1.18|:443... connected.\n",
            "HTTP request sent, awaiting response... 301 Moved Permanently\n",
            "Location: /s/raw/3fh77q07ndsn23c/emo_grounded_sat_speaker_cvpr21.zip [following]\n",
            "--2022-04-15 13:45:46--  https://www.dropbox.com/s/raw/3fh77q07ndsn23c/emo_grounded_sat_speaker_cvpr21.zip\n",
            "Reusing existing connection to www.dropbox.com:443.\n",
            "HTTP request sent, awaiting response... 302 Found\n",
            "Location: https://uc98d83fba41dd24a6ac56c0a8a5.dl.dropboxusercontent.com/cd/0/inline/BjeMioaZv4x96Kvb3WRETDpT7tLjs79dyM8lwGu1W3xxk_glT3PEODtkmpCBJ0hYHMqqR0DCbqacNeF1EuyfVjfqtMDiJv1eMIBUKf_eDqji-Jmar_xQQ8qnj6A0uVcUFDmBHpEMeSJR7UrlJ9ppgXcdY3Yopa86ngMN4Ui4UCSxhw/file# [following]\n",
            "--2022-04-15 13:45:46--  https://uc98d83fba41dd24a6ac56c0a8a5.dl.dropboxusercontent.com/cd/0/inline/BjeMioaZv4x96Kvb3WRETDpT7tLjs79dyM8lwGu1W3xxk_glT3PEODtkmpCBJ0hYHMqqR0DCbqacNeF1EuyfVjfqtMDiJv1eMIBUKf_eDqji-Jmar_xQQ8qnj6A0uVcUFDmBHpEMeSJR7UrlJ9ppgXcdY3Yopa86ngMN4Ui4UCSxhw/file\n",
            "Resolving uc98d83fba41dd24a6ac56c0a8a5.dl.dropboxusercontent.com (uc98d83fba41dd24a6ac56c0a8a5.dl.dropboxusercontent.com)... 162.125.7.15, 2620:100:6016:15::a27d:10f\n",
            "Connecting to uc98d83fba41dd24a6ac56c0a8a5.dl.dropboxusercontent.com (uc98d83fba41dd24a6ac56c0a8a5.dl.dropboxusercontent.com)|162.125.7.15|:443... connected.\n",
            "HTTP request sent, awaiting response... 302 Found\n",
            "Location: /cd/0/inline2/Bjd1DvTJF7vrLe6JPpdYzDhxcw5sSyWPEP0gsLif4-jdWwpAlCrIV6MaGz545hvoNR-tgiroh1q3VGOmTASKhnFfoUxYJqsDUq46f6HAfqKQuSvKMg9G5J9R05qbPyLoET1IYErMNaUFUvY3ysfil-I7_Y94ZqXZs2yln0Z1718iLIIoUqWmUpWxipLrIS1gD12gBrt3xwGkLmflegUAJ9OJKYYlU_Ncq7LTI2vmA1oemc8R32A1OlIQKnrIpUPW0ZEl_WfRoasW0yBG6AmhKhT3kb7N_rgaiGieNGCpPFzyX6LZ2Gd58YBQTuM_ja9E8yHAo8V8QEX8asvz0o4BvUIlnS79E7fl-yXZnCFZRhaf0hJm0vInSKSPdGQEKhT4kWMUQam8ZJLrwJT-2xP154Qjad9-z8Y-uePLfogqlqtLwA/file [following]\n",
            "--2022-04-15 13:45:47--  https://uc98d83fba41dd24a6ac56c0a8a5.dl.dropboxusercontent.com/cd/0/inline2/Bjd1DvTJF7vrLe6JPpdYzDhxcw5sSyWPEP0gsLif4-jdWwpAlCrIV6MaGz545hvoNR-tgiroh1q3VGOmTASKhnFfoUxYJqsDUq46f6HAfqKQuSvKMg9G5J9R05qbPyLoET1IYErMNaUFUvY3ysfil-I7_Y94ZqXZs2yln0Z1718iLIIoUqWmUpWxipLrIS1gD12gBrt3xwGkLmflegUAJ9OJKYYlU_Ncq7LTI2vmA1oemc8R32A1OlIQKnrIpUPW0ZEl_WfRoasW0yBG6AmhKhT3kb7N_rgaiGieNGCpPFzyX6LZ2Gd58YBQTuM_ja9E8yHAo8V8QEX8asvz0o4BvUIlnS79E7fl-yXZnCFZRhaf0hJm0vInSKSPdGQEKhT4kWMUQam8ZJLrwJT-2xP154Qjad9-z8Y-uePLfogqlqtLwA/file\n",
            "Reusing existing connection to uc98d83fba41dd24a6ac56c0a8a5.dl.dropboxusercontent.com:443.\n",
            "HTTP request sent, awaiting response... 200 OK\n",
            "Length: 431059472 (411M) [application/zip]\n",
            "Saving to: ‘emo_grounded_sat_speaker_cvpr21.zip’\n",
            "\n",
            "emo_grounded_sat_sp 100%[===================>] 411.09M  64.6MB/s    in 6.0s    \n",
            "\n",
            "2022-04-15 13:45:53 (68.7 MB/s) - ‘emo_grounded_sat_speaker_cvpr21.zip’ saved [431059472/431059472]\n",
            "\n",
            "Archive:  emo_grounded_sat_speaker_cvpr21.zip\n",
            "   creating: 03-17-2021-20-32-19/\n",
            "  inflating: 03-17-2021-20-32-19/config.json.txt  \n",
            "   creating: 03-17-2021-20-32-19/tb_log/\n",
            "  inflating: 03-17-2021-20-32-19/tb_log/events.out.tfevents.1616038372.aetos.31537.0  \n",
            "  inflating: 03-17-2021-20-32-19/log.txt  \n",
            "  inflating: 03-17-2021-20-32-19/samples_from_best_model_test_split.pkl  \n",
            "   creating: 03-17-2021-20-32-19/checkpoints/\n",
            " extracting: 03-17-2021-20-32-19/checkpoints/final_result.txt  \n",
            "  inflating: 03-17-2021-20-32-19/checkpoints/best_model.pt  \n",
            "  inflating: 03-17-2021-20-32-19/README.txt  \n"
          ]
        }
      ]
    },
    {
      "cell_type": "code",
      "source": [
        "!wget -c https://www.dropbox.com/s/jlb670b1iwshe07/config_custom.json.txt"
      ],
      "metadata": {
        "colab": {
          "base_uri": "https://localhost:8080/"
        },
        "id": "W95OfFzsyo2L",
        "outputId": "508aad7f-295f-41bb-b31b-b94ba4a78512"
      },
      "execution_count": null,
      "outputs": [
        {
          "output_type": "stream",
          "name": "stdout",
          "text": [
            "--2022-04-15 13:46:00--  https://www.dropbox.com/s/jlb670b1iwshe07/config_custom.json.txt\n",
            "Resolving www.dropbox.com (www.dropbox.com)... 162.125.1.18, 2620:100:6030:18::a27d:5012\n",
            "Connecting to www.dropbox.com (www.dropbox.com)|162.125.1.18|:443... connected.\n",
            "HTTP request sent, awaiting response... 301 Moved Permanently\n",
            "Location: /s/raw/jlb670b1iwshe07/config_custom.json.txt [following]\n",
            "--2022-04-15 13:46:00--  https://www.dropbox.com/s/raw/jlb670b1iwshe07/config_custom.json.txt\n",
            "Reusing existing connection to www.dropbox.com:443.\n",
            "HTTP request sent, awaiting response... 302 Found\n",
            "Location: https://uc6a9fc8ce6ddb5214b00283daa9.dl.dropboxusercontent.com/cd/0/inline/Bjcwr-TQoYQkUF4CKdnWX-zpq3xrN5l_ekb7TgQGiM5H_aJO01s1w-R36BLsAJrZcW7VwPBNtZ2nNdcSLR9kUaWLAdOZx3nMfYUUt6G_M3AW9MWwl293b-FfBMI9ZTdfhiVlInV92bpcgb-G_Qo-fv94b0ofoVFkV_YR_nqfQYg5Zg/file# [following]\n",
            "--2022-04-15 13:46:01--  https://uc6a9fc8ce6ddb5214b00283daa9.dl.dropboxusercontent.com/cd/0/inline/Bjcwr-TQoYQkUF4CKdnWX-zpq3xrN5l_ekb7TgQGiM5H_aJO01s1w-R36BLsAJrZcW7VwPBNtZ2nNdcSLR9kUaWLAdOZx3nMfYUUt6G_M3AW9MWwl293b-FfBMI9ZTdfhiVlInV92bpcgb-G_Qo-fv94b0ofoVFkV_YR_nqfQYg5Zg/file\n",
            "Resolving uc6a9fc8ce6ddb5214b00283daa9.dl.dropboxusercontent.com (uc6a9fc8ce6ddb5214b00283daa9.dl.dropboxusercontent.com)... 162.125.1.15, 2620:100:6016:15::a27d:10f\n",
            "Connecting to uc6a9fc8ce6ddb5214b00283daa9.dl.dropboxusercontent.com (uc6a9fc8ce6ddb5214b00283daa9.dl.dropboxusercontent.com)|162.125.1.15|:443... connected.\n",
            "HTTP request sent, awaiting response... 200 OK\n",
            "Length: 910 [text/plain]\n",
            "Saving to: ‘config_custom.json.txt’\n",
            "\n",
            "config_custom.json. 100%[===================>]     910  --.-KB/s    in 0s      \n",
            "\n",
            "2022-04-15 13:46:01 (96.3 MB/s) - ‘config_custom.json.txt’ saved [910/910]\n",
            "\n"
          ]
        }
      ]
    },
    {
      "cell_type": "code",
      "source": [
        "!mkdir -p /content/images\n",
        "!wget -c https://www.dropbox.com/s/8hs1iltxfwnanbf/allan-ramsay_lady-susan-fox-strangways-1761.jpg -q --show-progress -O /content/images/allan-ramsay_lady-susan-fox-strangways-1761.jpg\n",
        "!wget -c https://www.dropbox.com/s/8upn9qof1oftxul/download.jpg -q --show-progress -O /content/images/download.jpg\n"
      ],
      "metadata": {
        "colab": {
          "base_uri": "https://localhost:8080/"
        },
        "id": "eMmOJFcoAp5e",
        "outputId": "c0fb99ec-da7b-460e-cd08-84d49a70e44e"
      },
      "execution_count": null,
      "outputs": [
        {
          "output_type": "stream",
          "name": "stdout",
          "text": [
            "/content/images/all 100%[===================>]  58.67K  --.-KB/s    in 0.1s    \n",
            "/content/images/dow 100%[===================>] 303.50K  --.-KB/s    in 0.08s   \n"
          ]
        }
      ]
    },
    {
      "cell_type": "code",
      "source": [
        "!git clone https://github.com/harvard-visionlab/artemis artemis_code\n",
        "!pip install -e /content/artemis_code"
      ],
      "metadata": {
        "colab": {
          "base_uri": "https://localhost:8080/"
        },
        "id": "76hPpg83A9HH",
        "outputId": "1a9233d4-ee81-41a8-e56c-4ac30faf0116"
      },
      "execution_count": null,
      "outputs": [
        {
          "output_type": "stream",
          "name": "stdout",
          "text": [
            "Cloning into 'artemis_code'...\n",
            "remote: Enumerating objects: 234, done.\u001b[K\n",
            "remote: Counting objects: 100% (5/5), done.\u001b[K\n",
            "remote: Compressing objects: 100% (5/5), done.\u001b[K\n",
            "remote: Total 234 (delta 0), reused 0 (delta 0), pack-reused 229\u001b[K\n",
            "Receiving objects: 100% (234/234), 98.40 MiB | 13.97 MiB/s, done.\n",
            "Resolving deltas: 100% (58/58), done.\n",
            "Obtaining file:///content/artemis_code\n",
            "Requirement already satisfied: torch in /usr/local/lib/python3.7/dist-packages (from artemis==0.1) (1.10.0+cu111)\n",
            "Requirement already satisfied: torchvision in /usr/local/lib/python3.7/dist-packages (from artemis==0.1) (0.11.1+cu111)\n",
            "Requirement already satisfied: tensorboard in /usr/local/lib/python3.7/dist-packages (from artemis==0.1) (2.8.0)\n",
            "Requirement already satisfied: nltk in /usr/local/lib/python3.7/dist-packages (from artemis==0.1) (3.2.5)\n",
            "Requirement already satisfied: scikit-learn in /usr/local/lib/python3.7/dist-packages (from artemis==0.1) (1.0.2)\n",
            "Requirement already satisfied: pandas in /usr/local/lib/python3.7/dist-packages (from artemis==0.1) (1.3.5)\n",
            "Requirement already satisfied: matplotlib in /usr/local/lib/python3.7/dist-packages (from artemis==0.1) (3.2.2)\n",
            "Requirement already satisfied: plotly in /usr/local/lib/python3.7/dist-packages (from artemis==0.1) (5.5.0)\n",
            "Requirement already satisfied: Pillow in /usr/local/lib/python3.7/dist-packages (from artemis==0.1) (7.1.2)\n",
            "Requirement already satisfied: dask[dataframe] in /usr/local/lib/python3.7/dist-packages (from artemis==0.1) (2.12.0)\n",
            "Requirement already satisfied: jupyter in /usr/local/lib/python3.7/dist-packages (from artemis==0.1) (1.0.0)\n",
            "Requirement already satisfied: tqdm in /usr/local/lib/python3.7/dist-packages (from artemis==0.1) (4.64.0)\n",
            "Requirement already satisfied: seaborn in /usr/local/lib/python3.7/dist-packages (from artemis==0.1) (0.11.2)\n",
            "Requirement already satisfied: termcolor in /usr/local/lib/python3.7/dist-packages (from artemis==0.1) (1.1.0)\n",
            "Requirement already satisfied: scikit-image in /usr/local/lib/python3.7/dist-packages (from artemis==0.1) (0.18.3)\n",
            "Collecting symspellpy==6.5.2\n",
            "  Downloading symspellpy-6.5.2-py3-none-any.whl (2.6 MB)\n",
            "\u001b[K     |████████████████████████████████| 2.6 MB 10.1 MB/s \n",
            "\u001b[?25hRequirement already satisfied: numpy>=1.13.1 in /usr/local/lib/python3.7/dist-packages (from symspellpy==6.5.2->artemis==0.1) (1.21.5)\n",
            "Requirement already satisfied: toolz>=0.7.3 in /usr/local/lib/python3.7/dist-packages (from dask[dataframe]->artemis==0.1) (0.11.2)\n",
            "Collecting fsspec>=0.6.0\n",
            "  Downloading fsspec-2022.3.0-py3-none-any.whl (136 kB)\n",
            "\u001b[K     |████████████████████████████████| 136 kB 38.8 MB/s \n",
            "\u001b[?25hCollecting partd>=0.3.10\n",
            "  Downloading partd-1.2.0-py3-none-any.whl (19 kB)\n",
            "Requirement already satisfied: pytz>=2017.3 in /usr/local/lib/python3.7/dist-packages (from pandas->artemis==0.1) (2018.9)\n",
            "Requirement already satisfied: python-dateutil>=2.7.3 in /usr/local/lib/python3.7/dist-packages (from pandas->artemis==0.1) (2.8.2)\n",
            "Collecting locket\n",
            "  Downloading locket-0.2.1-py2.py3-none-any.whl (4.1 kB)\n",
            "Requirement already satisfied: six>=1.5 in /usr/local/lib/python3.7/dist-packages (from python-dateutil>=2.7.3->pandas->artemis==0.1) (1.15.0)\n",
            "Requirement already satisfied: jupyter-console in /usr/local/lib/python3.7/dist-packages (from jupyter->artemis==0.1) (5.2.0)\n",
            "Requirement already satisfied: notebook in /usr/local/lib/python3.7/dist-packages (from jupyter->artemis==0.1) (5.3.1)\n",
            "Requirement already satisfied: qtconsole in /usr/local/lib/python3.7/dist-packages (from jupyter->artemis==0.1) (5.3.0)\n",
            "Requirement already satisfied: ipykernel in /usr/local/lib/python3.7/dist-packages (from jupyter->artemis==0.1) (4.10.1)\n",
            "Requirement already satisfied: ipywidgets in /usr/local/lib/python3.7/dist-packages (from jupyter->artemis==0.1) (7.7.0)\n",
            "Requirement already satisfied: nbconvert in /usr/local/lib/python3.7/dist-packages (from jupyter->artemis==0.1) (5.6.1)\n",
            "Requirement already satisfied: ipython>=4.0.0 in /usr/local/lib/python3.7/dist-packages (from ipykernel->jupyter->artemis==0.1) (5.5.0)\n",
            "Requirement already satisfied: traitlets>=4.1.0 in /usr/local/lib/python3.7/dist-packages (from ipykernel->jupyter->artemis==0.1) (5.1.1)\n",
            "Requirement already satisfied: jupyter-client in /usr/local/lib/python3.7/dist-packages (from ipykernel->jupyter->artemis==0.1) (5.3.5)\n",
            "Requirement already satisfied: tornado>=4.0 in /usr/local/lib/python3.7/dist-packages (from ipykernel->jupyter->artemis==0.1) (5.1.1)\n",
            "Requirement already satisfied: setuptools>=18.5 in /usr/local/lib/python3.7/dist-packages (from ipython>=4.0.0->ipykernel->jupyter->artemis==0.1) (57.4.0)\n",
            "Requirement already satisfied: prompt-toolkit<2.0.0,>=1.0.4 in /usr/local/lib/python3.7/dist-packages (from ipython>=4.0.0->ipykernel->jupyter->artemis==0.1) (1.0.18)\n",
            "Requirement already satisfied: pickleshare in /usr/local/lib/python3.7/dist-packages (from ipython>=4.0.0->ipykernel->jupyter->artemis==0.1) (0.7.5)\n",
            "Requirement already satisfied: pexpect in /usr/local/lib/python3.7/dist-packages (from ipython>=4.0.0->ipykernel->jupyter->artemis==0.1) (4.8.0)\n",
            "Requirement already satisfied: decorator in /usr/local/lib/python3.7/dist-packages (from ipython>=4.0.0->ipykernel->jupyter->artemis==0.1) (4.4.2)\n",
            "Requirement already satisfied: simplegeneric>0.8 in /usr/local/lib/python3.7/dist-packages (from ipython>=4.0.0->ipykernel->jupyter->artemis==0.1) (0.8.1)\n",
            "Requirement already satisfied: pygments in /usr/local/lib/python3.7/dist-packages (from ipython>=4.0.0->ipykernel->jupyter->artemis==0.1) (2.6.1)\n",
            "Requirement already satisfied: wcwidth in /usr/local/lib/python3.7/dist-packages (from prompt-toolkit<2.0.0,>=1.0.4->ipython>=4.0.0->ipykernel->jupyter->artemis==0.1) (0.2.5)\n",
            "Requirement already satisfied: ipython-genutils~=0.2.0 in /usr/local/lib/python3.7/dist-packages (from ipywidgets->jupyter->artemis==0.1) (0.2.0)\n",
            "Requirement already satisfied: widgetsnbextension~=3.6.0 in /usr/local/lib/python3.7/dist-packages (from ipywidgets->jupyter->artemis==0.1) (3.6.0)\n",
            "Requirement already satisfied: nbformat>=4.2.0 in /usr/local/lib/python3.7/dist-packages (from ipywidgets->jupyter->artemis==0.1) (5.3.0)\n",
            "Requirement already satisfied: jupyterlab-widgets>=1.0.0 in /usr/local/lib/python3.7/dist-packages (from ipywidgets->jupyter->artemis==0.1) (1.1.0)\n",
            "Requirement already satisfied: jupyter-core in /usr/local/lib/python3.7/dist-packages (from nbformat>=4.2.0->ipywidgets->jupyter->artemis==0.1) (4.9.2)\n",
            "Requirement already satisfied: fastjsonschema in /usr/local/lib/python3.7/dist-packages (from nbformat>=4.2.0->ipywidgets->jupyter->artemis==0.1) (2.15.3)\n",
            "Requirement already satisfied: jsonschema>=2.6 in /usr/local/lib/python3.7/dist-packages (from nbformat>=4.2.0->ipywidgets->jupyter->artemis==0.1) (4.3.3)\n",
            "Requirement already satisfied: typing-extensions in /usr/local/lib/python3.7/dist-packages (from jsonschema>=2.6->nbformat>=4.2.0->ipywidgets->jupyter->artemis==0.1) (4.1.1)\n",
            "Requirement already satisfied: pyrsistent!=0.17.0,!=0.17.1,!=0.17.2,>=0.14.0 in /usr/local/lib/python3.7/dist-packages (from jsonschema>=2.6->nbformat>=4.2.0->ipywidgets->jupyter->artemis==0.1) (0.18.1)\n",
            "Requirement already satisfied: attrs>=17.4.0 in /usr/local/lib/python3.7/dist-packages (from jsonschema>=2.6->nbformat>=4.2.0->ipywidgets->jupyter->artemis==0.1) (21.4.0)\n",
            "Requirement already satisfied: importlib-resources>=1.4.0 in /usr/local/lib/python3.7/dist-packages (from jsonschema>=2.6->nbformat>=4.2.0->ipywidgets->jupyter->artemis==0.1) (5.6.0)\n",
            "Requirement already satisfied: importlib-metadata in /usr/local/lib/python3.7/dist-packages (from jsonschema>=2.6->nbformat>=4.2.0->ipywidgets->jupyter->artemis==0.1) (4.11.3)\n",
            "Requirement already satisfied: zipp>=3.1.0 in /usr/local/lib/python3.7/dist-packages (from importlib-resources>=1.4.0->jsonschema>=2.6->nbformat>=4.2.0->ipywidgets->jupyter->artemis==0.1) (3.8.0)\n",
            "Requirement already satisfied: jinja2 in /usr/local/lib/python3.7/dist-packages (from notebook->jupyter->artemis==0.1) (2.11.3)\n",
            "Requirement already satisfied: Send2Trash in /usr/local/lib/python3.7/dist-packages (from notebook->jupyter->artemis==0.1) (1.8.0)\n",
            "Requirement already satisfied: terminado>=0.8.1 in /usr/local/lib/python3.7/dist-packages (from notebook->jupyter->artemis==0.1) (0.13.3)\n",
            "Requirement already satisfied: pyzmq>=13 in /usr/local/lib/python3.7/dist-packages (from jupyter-client->ipykernel->jupyter->artemis==0.1) (22.3.0)\n",
            "Requirement already satisfied: ptyprocess in /usr/local/lib/python3.7/dist-packages (from terminado>=0.8.1->notebook->jupyter->artemis==0.1) (0.7.0)\n",
            "Requirement already satisfied: MarkupSafe>=0.23 in /usr/local/lib/python3.7/dist-packages (from jinja2->notebook->jupyter->artemis==0.1) (2.0.1)\n",
            "Requirement already satisfied: kiwisolver>=1.0.1 in /usr/local/lib/python3.7/dist-packages (from matplotlib->artemis==0.1) (1.4.2)\n",
            "Requirement already satisfied: cycler>=0.10 in /usr/local/lib/python3.7/dist-packages (from matplotlib->artemis==0.1) (0.11.0)\n",
            "Requirement already satisfied: pyparsing!=2.0.4,!=2.1.2,!=2.1.6,>=2.0.1 in /usr/local/lib/python3.7/dist-packages (from matplotlib->artemis==0.1) (3.0.8)\n",
            "Requirement already satisfied: mistune<2,>=0.8.1 in /usr/local/lib/python3.7/dist-packages (from nbconvert->jupyter->artemis==0.1) (0.8.4)\n",
            "Requirement already satisfied: bleach in /usr/local/lib/python3.7/dist-packages (from nbconvert->jupyter->artemis==0.1) (5.0.0)\n",
            "Requirement already satisfied: defusedxml in /usr/local/lib/python3.7/dist-packages (from nbconvert->jupyter->artemis==0.1) (0.7.1)\n",
            "Requirement already satisfied: testpath in /usr/local/lib/python3.7/dist-packages (from nbconvert->jupyter->artemis==0.1) (0.6.0)\n",
            "Requirement already satisfied: entrypoints>=0.2.2 in /usr/local/lib/python3.7/dist-packages (from nbconvert->jupyter->artemis==0.1) (0.4)\n",
            "Requirement already satisfied: pandocfilters>=1.4.1 in /usr/local/lib/python3.7/dist-packages (from nbconvert->jupyter->artemis==0.1) (1.5.0)\n",
            "Requirement already satisfied: webencodings in /usr/local/lib/python3.7/dist-packages (from bleach->nbconvert->jupyter->artemis==0.1) (0.5.1)\n",
            "Requirement already satisfied: tenacity>=6.2.0 in /usr/local/lib/python3.7/dist-packages (from plotly->artemis==0.1) (8.0.1)\n",
            "Requirement already satisfied: qtpy>=2.0.1 in /usr/local/lib/python3.7/dist-packages (from qtconsole->jupyter->artemis==0.1) (2.0.1)\n",
            "Requirement already satisfied: packaging in /usr/local/lib/python3.7/dist-packages (from qtpy>=2.0.1->qtconsole->jupyter->artemis==0.1) (21.3)\n",
            "Requirement already satisfied: PyWavelets>=1.1.1 in /usr/local/lib/python3.7/dist-packages (from scikit-image->artemis==0.1) (1.3.0)\n",
            "Requirement already satisfied: tifffile>=2019.7.26 in /usr/local/lib/python3.7/dist-packages (from scikit-image->artemis==0.1) (2021.11.2)\n",
            "Requirement already satisfied: scipy>=1.0.1 in /usr/local/lib/python3.7/dist-packages (from scikit-image->artemis==0.1) (1.4.1)\n",
            "Requirement already satisfied: imageio>=2.3.0 in /usr/local/lib/python3.7/dist-packages (from scikit-image->artemis==0.1) (2.4.1)\n",
            "Requirement already satisfied: networkx>=2.0 in /usr/local/lib/python3.7/dist-packages (from scikit-image->artemis==0.1) (2.6.3)\n",
            "Requirement already satisfied: threadpoolctl>=2.0.0 in /usr/local/lib/python3.7/dist-packages (from scikit-learn->artemis==0.1) (3.1.0)\n",
            "Requirement already satisfied: joblib>=0.11 in /usr/local/lib/python3.7/dist-packages (from scikit-learn->artemis==0.1) (1.1.0)\n",
            "Requirement already satisfied: markdown>=2.6.8 in /usr/local/lib/python3.7/dist-packages (from tensorboard->artemis==0.1) (3.3.6)\n",
            "Requirement already satisfied: tensorboard-data-server<0.7.0,>=0.6.0 in /usr/local/lib/python3.7/dist-packages (from tensorboard->artemis==0.1) (0.6.1)\n",
            "Requirement already satisfied: wheel>=0.26 in /usr/local/lib/python3.7/dist-packages (from tensorboard->artemis==0.1) (0.37.1)\n",
            "Requirement already satisfied: google-auth<3,>=1.6.3 in /usr/local/lib/python3.7/dist-packages (from tensorboard->artemis==0.1) (1.35.0)\n",
            "Requirement already satisfied: protobuf>=3.6.0 in /usr/local/lib/python3.7/dist-packages (from tensorboard->artemis==0.1) (3.17.3)\n",
            "Requirement already satisfied: tensorboard-plugin-wit>=1.6.0 in /usr/local/lib/python3.7/dist-packages (from tensorboard->artemis==0.1) (1.8.1)\n",
            "Requirement already satisfied: google-auth-oauthlib<0.5,>=0.4.1 in /usr/local/lib/python3.7/dist-packages (from tensorboard->artemis==0.1) (0.4.6)\n",
            "Requirement already satisfied: requests<3,>=2.21.0 in /usr/local/lib/python3.7/dist-packages (from tensorboard->artemis==0.1) (2.23.0)\n",
            "Requirement already satisfied: absl-py>=0.4 in /usr/local/lib/python3.7/dist-packages (from tensorboard->artemis==0.1) (1.0.0)\n",
            "Requirement already satisfied: werkzeug>=0.11.15 in /usr/local/lib/python3.7/dist-packages (from tensorboard->artemis==0.1) (1.0.1)\n",
            "Requirement already satisfied: grpcio>=1.24.3 in /usr/local/lib/python3.7/dist-packages (from tensorboard->artemis==0.1) (1.44.0)\n",
            "Requirement already satisfied: cachetools<5.0,>=2.0.0 in /usr/local/lib/python3.7/dist-packages (from google-auth<3,>=1.6.3->tensorboard->artemis==0.1) (4.2.4)\n",
            "Requirement already satisfied: pyasn1-modules>=0.2.1 in /usr/local/lib/python3.7/dist-packages (from google-auth<3,>=1.6.3->tensorboard->artemis==0.1) (0.2.8)\n",
            "Requirement already satisfied: rsa<5,>=3.1.4 in /usr/local/lib/python3.7/dist-packages (from google-auth<3,>=1.6.3->tensorboard->artemis==0.1) (4.8)\n",
            "Requirement already satisfied: requests-oauthlib>=0.7.0 in /usr/local/lib/python3.7/dist-packages (from google-auth-oauthlib<0.5,>=0.4.1->tensorboard->artemis==0.1) (1.3.1)\n",
            "Requirement already satisfied: pyasn1<0.5.0,>=0.4.6 in /usr/local/lib/python3.7/dist-packages (from pyasn1-modules>=0.2.1->google-auth<3,>=1.6.3->tensorboard->artemis==0.1) (0.4.8)\n",
            "Requirement already satisfied: chardet<4,>=3.0.2 in /usr/local/lib/python3.7/dist-packages (from requests<3,>=2.21.0->tensorboard->artemis==0.1) (3.0.4)\n",
            "Requirement already satisfied: urllib3!=1.25.0,!=1.25.1,<1.26,>=1.21.1 in /usr/local/lib/python3.7/dist-packages (from requests<3,>=2.21.0->tensorboard->artemis==0.1) (1.24.3)\n",
            "Requirement already satisfied: idna<3,>=2.5 in /usr/local/lib/python3.7/dist-packages (from requests<3,>=2.21.0->tensorboard->artemis==0.1) (2.10)\n",
            "Requirement already satisfied: certifi>=2017.4.17 in /usr/local/lib/python3.7/dist-packages (from requests<3,>=2.21.0->tensorboard->artemis==0.1) (2021.10.8)\n",
            "Requirement already satisfied: oauthlib>=3.0.0 in /usr/local/lib/python3.7/dist-packages (from requests-oauthlib>=0.7.0->google-auth-oauthlib<0.5,>=0.4.1->tensorboard->artemis==0.1) (3.2.0)\n",
            "Installing collected packages: locket, partd, fsspec, symspellpy, artemis\n",
            "  Running setup.py develop for artemis\n",
            "Successfully installed artemis-0.1 fsspec-2022.3.0 locket-0.2.1 partd-1.2.0 symspellpy-6.5.2\n"
          ]
        }
      ]
    },
    {
      "cell_type": "code",
      "source": [
        "!wget -c https://www.dropbox.com/s/6wqt3yrz5fpeefj/artemis_data.tar.gz\n",
        "!tar -xvf artemis_data.tar.gz"
      ],
      "metadata": {
        "colab": {
          "base_uri": "https://localhost:8080/"
        },
        "id": "ij9KtSGdBEGC",
        "outputId": "c76dbac2-237e-4099-ac02-c37ffbe84c04"
      },
      "execution_count": null,
      "outputs": [
        {
          "output_type": "stream",
          "name": "stdout",
          "text": [
            "--2022-04-15 13:46:23--  https://www.dropbox.com/s/6wqt3yrz5fpeefj/artemis_data.tar.gz\n",
            "Resolving www.dropbox.com (www.dropbox.com)... 162.125.1.18, 2620:100:6016:18::a27d:112\n",
            "Connecting to www.dropbox.com (www.dropbox.com)|162.125.1.18|:443... connected.\n",
            "HTTP request sent, awaiting response... 301 Moved Permanently\n",
            "Location: /s/raw/6wqt3yrz5fpeefj/artemis_data.tar.gz [following]\n",
            "--2022-04-15 13:46:23--  https://www.dropbox.com/s/raw/6wqt3yrz5fpeefj/artemis_data.tar.gz\n",
            "Reusing existing connection to www.dropbox.com:443.\n",
            "HTTP request sent, awaiting response... 302 Found\n",
            "Location: https://uc938d4c5c11856d51603e188f53.dl.dropboxusercontent.com/cd/0/inline/BjdeFqunjmbxV1Gky4V6E7TZ7AgJLfZ8145oVT4ZrlTbUawR1AXqhwDNBdtUojCFrHuw7of472T8LxPTiMgbNgr9kXmvlVF3fkk8ET6vELglGVSvln1klJOmpqLXEj_IIYnItm7VLtXp7V_eIg0KaTiLVuxBBnJuHZudmecWhnsTyw/file# [following]\n",
            "--2022-04-15 13:46:23--  https://uc938d4c5c11856d51603e188f53.dl.dropboxusercontent.com/cd/0/inline/BjdeFqunjmbxV1Gky4V6E7TZ7AgJLfZ8145oVT4ZrlTbUawR1AXqhwDNBdtUojCFrHuw7of472T8LxPTiMgbNgr9kXmvlVF3fkk8ET6vELglGVSvln1klJOmpqLXEj_IIYnItm7VLtXp7V_eIg0KaTiLVuxBBnJuHZudmecWhnsTyw/file\n",
            "Resolving uc938d4c5c11856d51603e188f53.dl.dropboxusercontent.com (uc938d4c5c11856d51603e188f53.dl.dropboxusercontent.com)... 162.125.1.15, 2620:100:6022:15::a27d:420f\n",
            "Connecting to uc938d4c5c11856d51603e188f53.dl.dropboxusercontent.com (uc938d4c5c11856d51603e188f53.dl.dropboxusercontent.com)|162.125.1.15|:443... connected.\n",
            "HTTP request sent, awaiting response... 302 Found\n",
            "Location: /cd/0/inline2/BjdaakwQ0q3jFe96hGN12FBAmH95OS-fuZMKCZ7_-vSqfqSLNWKp6zraHIo-3uyrt2QnmTdYbDB1LtF9_IswuftWkv1Q3WWOADD754Qh5S7_6DWv40fKdh2dCxqAhHhxFWh_0J5WKjSn7OLMzH2XICG_0LGLfiB17qGbG0rAJYr2Cc-n2TNQvWRXkYirguoRLhQKQkIra6TwSO5kh4BBZ4sS2FkKR_xO-NH0ROUO31_KvO6Y3M9VKNbm5S7a7aFNMdY1heMxEm_-SxmadAa0LsG3EwVzJu_Gfh5dm_0QDokIdNZRXLFQ8yvDdRm0NxXWhluGTSVhr8VCbywAvQhsler-wvLY-95klPOpXi1mw1gvJNt4qMFRmoVEYw99fCEKpKTo5e23TInRJf0NnN_Hv628s4m2yltJkk9uClnxcZyJSQ/file [following]\n",
            "--2022-04-15 13:46:24--  https://uc938d4c5c11856d51603e188f53.dl.dropboxusercontent.com/cd/0/inline2/BjdaakwQ0q3jFe96hGN12FBAmH95OS-fuZMKCZ7_-vSqfqSLNWKp6zraHIo-3uyrt2QnmTdYbDB1LtF9_IswuftWkv1Q3WWOADD754Qh5S7_6DWv40fKdh2dCxqAhHhxFWh_0J5WKjSn7OLMzH2XICG_0LGLfiB17qGbG0rAJYr2Cc-n2TNQvWRXkYirguoRLhQKQkIra6TwSO5kh4BBZ4sS2FkKR_xO-NH0ROUO31_KvO6Y3M9VKNbm5S7a7aFNMdY1heMxEm_-SxmadAa0LsG3EwVzJu_Gfh5dm_0QDokIdNZRXLFQ8yvDdRm0NxXWhluGTSVhr8VCbywAvQhsler-wvLY-95klPOpXi1mw1gvJNt4qMFRmoVEYw99fCEKpKTo5e23TInRJf0NnN_Hv628s4m2yltJkk9uClnxcZyJSQ/file\n",
            "Reusing existing connection to uc938d4c5c11856d51603e188f53.dl.dropboxusercontent.com:443.\n",
            "HTTP request sent, awaiting response... 200 OK\n",
            "Length: 82862259 (79M) [application/octet-stream]\n",
            "Saving to: ‘artemis_data.tar.gz’\n",
            "\n",
            "artemis_data.tar.gz 100%[===================>]  79.02M   149MB/s    in 0.5s    \n",
            "\n",
            "2022-04-15 13:46:25 (149 MB/s) - ‘artemis_data.tar.gz’ saved [82862259/82862259]\n",
            "\n",
            "artemis_data/\n",
            "artemis_data/config.json.txt\n",
            "artemis_data/vocabulary.pkl\n",
            "artemis_data/artemis_gt_references_grouped.pkl\n",
            "artemis_data/artemis_preprocessed.csv\n"
          ]
        }
      ]
    },
    {
      "cell_type": "markdown",
      "source": [
        "# Step 1 - imports"
      ],
      "metadata": {
        "id": "3Yc6E0ikpC22"
      }
    },
    {
      "cell_type": "code",
      "source": [
        "import torch\n",
        "import json\n",
        "import numpy as np\n",
        "import pprint\n",
        "\n",
        "from artemis.in_out.basics import pickle_data\n",
        "from artemis.in_out.arguments import parse_test_speaker_arguments\n",
        "from artemis.in_out.neural_net_oriented import torch_load_model, load_saved_speaker, seed_torch_code\n",
        "from artemis.neural_models.attentive_decoder import negative_log_likelihood\n",
        "from artemis.captioning.sample_captions import versatile_caption_sampler, captions_as_dataframe\n",
        "from artemis.in_out.datasets import sub_index_affective_dataloader\n",
        "from artemis.in_out.datasets import default_grounding_dataset_from_affective_loader\n",
        "from artemis.in_out.datasets import custom_grounding_dataset_similar_to_affective_loader"
      ],
      "metadata": {
        "id": "UY83NYIeoarH"
      },
      "execution_count": null,
      "outputs": []
    },
    {
      "cell_type": "markdown",
      "source": [
        "## custom dataset"
      ],
      "metadata": {
        "id": "JwHJq3eNwosI"
      }
    },
    {
      "cell_type": "code",
      "source": [
        "import os\n",
        "from artemis.in_out.datasets import AffectiveCaptionDataset, ImageClassificationDataset\n",
        "from artemis.emotions import emotion_to_int, ARTEMIS_EMOTIONS, LARGER_EMOTION_VOCAB\n",
        "import pandas as pd  \n",
        "from pdb import set_trace\n",
        "\n",
        "def custom_grounding_dataset_similar_to_affective_loader(grounding_data_csv, loader, n_workers=None):\n",
        "    \"\"\"\n",
        "    Convenience function. Given a csv indicating (grounding) images on the hard-drive and a loader carrying an affective\n",
        "    dataset, make a new loader with the csv images using the same configuration (e.g., img_transform) as the loader.\n",
        "    :param grounding_data_csv: (csv filename)\n",
        "        - has to have one column named \"image_file\" that corresponds to the file-names of the images.\n",
        "        - (optionally) can have also a \"grounding_emotion\" column with values like \"contentment\"\n",
        "    :param loader:\n",
        "    :return:\n",
        "    \"\"\"\n",
        "    df = pd.read_csv(grounding_data_csv)\n",
        "    image_files = df['image_file']\n",
        "    dummy = pd.Series(np.ones(len(image_files), dtype=int) * -1)\n",
        "\n",
        "    if 'grounding_emotion' in df.columns:\n",
        "        # emotions = df.emotion.apply(emotion_to_int)\n",
        "        emotions = df.grounding_emotion.apply(emotion_to_int)       \n",
        "    else:\n",
        "        emotions = dummy\n",
        "    print(emotions)\n",
        "\n",
        "    standard_dset = loader.dataset\n",
        "    custom_dataset = AffectiveCaptionDataset(image_files, dummy, emotions=emotions,\n",
        "                                             n_emotions=standard_dset.n_emotions,\n",
        "                                             img_transform=standard_dset.img_transform,\n",
        "                                             one_hot_emo=standard_dset.one_hot_emo)\n",
        "    if n_workers is None:\n",
        "        n_workers = loader.num_workers\n",
        "\n",
        "    custom_data_loader = torch.utils.data.DataLoader(dataset=custom_dataset,\n",
        "                                                     batch_size=min(loader.batch_size, len(custom_dataset)),\n",
        "                                                     num_workers=n_workers)\n",
        "    return custom_data_loader\n",
        "    \n",
        "def custom_dataset(loader, image_files, grounding_emotions=None, n_workers=None):\n",
        "  \n",
        "  image_files = [os.path.join('/content/images', f) for f in image_files]\n",
        "\n",
        "  # build a dataframe just so we can use the original code below\n",
        "  if grounding_emotions is not None:\n",
        "    if isinstance(grounding_emotions, str):\n",
        "      grounding_emotions = [grounding_emotions] * len(image_files)\n",
        "  \n",
        "    data = {\n",
        "        \"image_file\": image_files, \n",
        "        \"grounding_emotion\": grounding_emotions\n",
        "    }\n",
        "\n",
        "  else:\n",
        "    data = {\n",
        "        \"image_file\": image_files, \n",
        "    }\n",
        "  \n",
        "  df = pd.DataFrame(data)\n",
        "\n",
        "  # custom dataset\n",
        "  image_files = df['image_file']\n",
        "  dummy = pd.Series(np.ones(len(image_files), dtype=int) * -1)\n",
        "\n",
        "  if 'grounding_emotion' in df.columns:\n",
        "      # emotions = df.emotion.apply(emotion_to_int)\n",
        "      emotions = df.grounding_emotion.apply(emotion_to_int)       \n",
        "  else:\n",
        "      emotions = dummy\n",
        "\n",
        "  standard_dset = loader.dataset\n",
        "  custom_dataset = AffectiveCaptionDataset(image_files, dummy, emotions=emotions,\n",
        "                                            n_emotions=standard_dset.n_emotions,\n",
        "                                            img_transform=standard_dset.img_transform,\n",
        "                                            one_hot_emo=standard_dset.one_hot_emo)\n",
        "  if n_workers is None:\n",
        "      n_workers = loader.num_workers\n",
        "\n",
        "  custom_data_loader = torch.utils.data.DataLoader(dataset=custom_dataset,\n",
        "                                                    batch_size=min(loader.batch_size, len(custom_dataset)),\n",
        "                                                    num_workers=n_workers)\n",
        "  return custom_data_loader\n",
        "\n",
        "import math \n",
        "import matplotlib.pyplot as plt\n",
        "from PIL import Image \n",
        "\n",
        "def show_images(image_names, num_cols=5, figsize=(10,16)):\n",
        "    N = len(image_names)\n",
        "    \n",
        "    num_rows = int(math.ceil(N/num_cols))\n",
        "    \n",
        "    fig, axes = plt.subplots(num_rows, num_cols, sharey=True)\n",
        "    if num_rows==1: axes = [axes]\n",
        "\n",
        "    c = 0\n",
        "    for row in axes:\n",
        "      for ax in row:\n",
        "        if c < N:\n",
        "          img_name = image_names[c]\n",
        "          img = Image.open(os.path.join('/content/images', img_name))\n",
        "          ax.imshow(img)\n",
        "          ax.grid(False)\n",
        "          ax.axis('off')\n",
        "          ax.set_title(img_name)\n",
        "          c += 1\n",
        "        else:\n",
        "          ax.remove()\n"
      ],
      "metadata": {
        "id": "lRDQwCrqwqN1"
      },
      "execution_count": null,
      "outputs": []
    },
    {
      "cell_type": "markdown",
      "source": [
        "## get captions"
      ],
      "metadata": {
        "id": "bAIQ0bZKz1KH"
      }
    },
    {
      "cell_type": "code",
      "source": [
        "import warnings\n",
        "warnings.filterwarnings('ignore')\n",
        "\n",
        "def get_captions(speaker, data_loaders, image_list, grounding_emotions=None):\n",
        "\n",
        "  loader = data_loaders['test']\n",
        "  annotate_loader = custom_dataset(loader, image_files, grounding_emotions=grounding_emotions) \n",
        "\n",
        "  device = 'cuda' if torch.cuda.is_available() else 'cpu'\n",
        "\n",
        "  config = {\n",
        "      \"sampling_rule\": \"beam\",\n",
        "      \"temperature\": 0.3,\n",
        "      \"beam_size\": 5,\n",
        "      \"max_utterance_len\": 30,\n",
        "      \"drop_unk\": True,\n",
        "      \"drop_bigrams\": True,\n",
        "      \"use_bert_unk\": False,\n",
        "      \"topk\": None,\n",
        "  } \n",
        "\n",
        "  captions_predicted, attn_weights = versatile_caption_sampler(speaker, \n",
        "                                                               annotate_loader, \n",
        "                                                               device, \n",
        "                                                               **config)\n",
        "  \n",
        "  return captions_predicted, attn_weights\n"
      ],
      "metadata": {
        "id": "mKuD6eJ-z4YI"
      },
      "execution_count": null,
      "outputs": []
    },
    {
      "cell_type": "markdown",
      "source": [
        "## work it out"
      ],
      "metadata": {
        "id": "Ds81-Y1QyP0Y"
      }
    },
    {
      "cell_type": "code",
      "source": [
        "# from argparse import ArgumentParser\n",
        "# import json \n",
        "\n",
        "# parser = ArgumentParser()\n",
        "# args = parser.parse_args([])\n",
        "\n",
        "# speaker_saved_args = './03-17-2021-20-32-19/config.json.txt'\n",
        "# with open(speaker_saved_args, 'r') as f_in:\n",
        "#     args.__dict__ = json.load(f_in)\n",
        "\n",
        "# args_string = pprint.pformat(vars(args))\n",
        "# print(args_string)"
      ],
      "metadata": {
        "id": "Af4SuJgSySzd"
      },
      "execution_count": null,
      "outputs": []
    },
    {
      "cell_type": "code",
      "source": [
        "# import torch \n",
        "\n",
        "# img2emo_clf = torch_load_model('best_model.pt', map_location='cpu')"
      ],
      "metadata": {
        "id": "nj-wvgh27h2p"
      },
      "execution_count": null,
      "outputs": []
    },
    {
      "cell_type": "code",
      "source": [
        "# image_files = [\n",
        "#   'allan-ramsay_lady-susan-fox-strangways-1761.jpg',\n",
        "#   'download.jpg',  \n",
        "# ]\n",
        "# loader = data_loaders['test']\n",
        "# annotate_loader = custom_dataset(loader, image_files) "
      ],
      "metadata": {
        "id": "W8gB4Bbw7kP9"
      },
      "execution_count": null,
      "outputs": []
    },
    {
      "cell_type": "code",
      "source": [
        "# import pandas as pd \n",
        "# from ast import literal_eval\n",
        "# df = pd.read_csv('./artemis_data/artemis_preprocessed.csv')\n",
        "# df.tokens_encoded = df.tokens_encoded.apply(literal_eval)\n",
        "# print('Loaded {} utterances'.format(len(df)))\n",
        "# df.iloc[0]"
      ],
      "metadata": {
        "id": "iYFSHuco7oMt"
      },
      "execution_count": null,
      "outputs": []
    },
    {
      "cell_type": "code",
      "source": [
        "# device = 'cuda' if torch.cuda.is_available() else 'cpu'\n",
        "# config = {\n",
        "#     \"sampling_rule\": \"beam\",\n",
        "#     \"temperature\": 0.3,\n",
        "#     \"beam_size\": 5,\n",
        "#     \"max_utterance_len\": 30,\n",
        "#     \"drop_unk\": True,\n",
        "#     \"drop_bigrams\": True,\n",
        "#     \"use_bert_unk\": False,\n",
        "#     \"topk\": None,\n",
        "# } "
      ],
      "metadata": {
        "id": "PsahgKYz7p-S"
      },
      "execution_count": null,
      "outputs": []
    },
    {
      "cell_type": "code",
      "source": [
        "# import warnings\n",
        "# warnings.filterwarnings('ignore')\n",
        "\n",
        "# captions_predicted, attn_weights = versatile_caption_sampler(speaker, \n",
        "#                                                              annotate_loader, \n",
        "#                                                              device, \n",
        "#                                                              **config)\n",
        "# print(captions_predicted)"
      ],
      "metadata": {
        "id": "OEThkFUc7s8F"
      },
      "execution_count": null,
      "outputs": []
    },
    {
      "cell_type": "markdown",
      "source": [
        "# Step 2 - load the model\n",
        "\n"
      ],
      "metadata": {
        "id": "7q5Z2xBJoi1E"
      }
    },
    {
      "cell_type": "code",
      "source": [
        "# Load pretrained speaker & its corresponding train-val-test data. If you do not provide a\n",
        "# custom set of images to annotate. Then based on the -split you designated it will annotate this data.\n",
        "# speaker_saved_args = './03-17-2021-20-32-19/config.json.txt'\n",
        "speaker_saved_args = './config_custom.json.txt'\n",
        "speaker_checkpoint = './03-17-2021-20-32-19/checkpoints/best_model.pt'\n",
        "\n",
        "speaker, epoch, data_loaders = load_saved_speaker(speaker_saved_args, speaker_checkpoint,\n",
        "                                                  with_data=True, verbose=True)"
      ],
      "metadata": {
        "colab": {
          "base_uri": "https://localhost:8080/",
          "referenced_widgets": [
            "b5bd246b8b5b48e38c8ae864ffe20cc0",
            "428e42b4431b40d8bd1891b7e7c4e7b3",
            "eb18cc96e14c4c12a3446d50d0fc2c2d",
            "7f75c9aaf034431bae548af6c31b5ae4",
            "ddfac25e8bf94fedbec915893d3a62c7",
            "6cf8b4c0eaeb4c8fa4e690d655b6f1d1",
            "e2c8fe5b066a4215b9937bd40e6c538c",
            "1cb354ad8aa24e7fab88d0128bbb3112",
            "f34ea1cd7af2458fb3211c6c3f2ba9ab",
            "01071d0477b6444b94b88b3714c39463",
            "7c87f3827d5f4b2a9fc1c48b228e71ac"
          ]
        },
        "id": "Dl1zTG-Ieu-M",
        "outputId": "9c3fcb6b-6681-4c0f-839e-c428a7954a59"
      },
      "execution_count": null,
      "outputs": [
        {
          "output_type": "stream",
          "name": "stdout",
          "text": [
            "Loading saved speaker trained with parameters:\n",
            "{'atn_cover_img_alpha': 1,\n",
            " 'atn_spatial_img_size': None,\n",
            " 'attention_dim': 512,\n",
            " 'batch_size': 128,\n",
            " 'data_dir': '/content/artemis_data',\n",
            " 'dataset': 'artemis',\n",
            " 'debug': False,\n",
            " 'decoder_lr': 0.0005,\n",
            " 'dropout_rate': 0.1,\n",
            " 'emo_grounding_dims': [9, 9],\n",
            " 'encoder_lr': 0.0001,\n",
            " 'fine_tune_data': None,\n",
            " 'gpu': '2',\n",
            " 'img_dim': 256,\n",
            " 'img_dir': '/content/images',\n",
            " 'lanczos': True,\n",
            " 'log_dir': '----YOUR---DIR-WHERE-YOU-UNZIPED-THIS-DL-ZIPPED-FOLDER-ENDING-WITH-THE-DATE-STAMP',\n",
            " 'lr_patience': 2,\n",
            " 'max_train_epochs': 50,\n",
            " 'num_workers': 10,\n",
            " 'random_seed': 2021,\n",
            " 'resume_path': None,\n",
            " 'rnn_hidden_dim': 512,\n",
            " 'save_each_epoch': True,\n",
            " 'teacher_forcing_ratio': 1,\n",
            " 'train_patience': 5,\n",
            " 'use_emo_grounding': True,\n",
            " 'use_timestamp': True,\n",
            " 'vis_encoder': 'resnet34',\n",
            " 'word_embedding_dim': 128}\n",
            "Using a vocabulary of size 14469\n"
          ]
        },
        {
          "output_type": "stream",
          "name": "stderr",
          "text": [
            "Downloading: \"https://download.pytorch.org/models/resnet34-b627a593.pth\" to /root/.cache/torch/hub/checkpoints/resnet34-b627a593.pth\n"
          ]
        },
        {
          "output_type": "display_data",
          "data": {
            "text/plain": [
              "  0%|          | 0.00/83.3M [00:00<?, ?B/s]"
            ],
            "application/vnd.jupyter.widget-view+json": {
              "version_major": 2,
              "version_minor": 0,
              "model_id": "b5bd246b8b5b48e38c8ae864ffe20cc0"
            }
          },
          "metadata": {}
        },
        {
          "output_type": "stream",
          "name": "stdout",
          "text": [
            "Loading speaker model at epoch 7.\n",
            "Loaded 429431 utterances\n"
          ]
        }
      ]
    },
    {
      "cell_type": "markdown",
      "source": [
        "# Step 3 - Upload Your Images\n",
        "\n",
        "Place any images you want in the \"images\" folder. "
      ],
      "metadata": {
        "id": "hCHIKqEny33w"
      }
    },
    {
      "cell_type": "markdown",
      "source": [
        "# Step 4 - Prepare your dataset\n",
        "\n",
        "Here you just list the names of files you'd like to get captions for as a comma-separated list (the code assumes these images are in the \"images\" folder)\n",
        "\n",
        "```\n",
        "image_files = [\"image1.jpg\", \"image2.jpg\", \"...etc\"]\n",
        "\n",
        "```"
      ],
      "metadata": {
        "id": "rccDZyiuzCPv"
      }
    },
    {
      "cell_type": "code",
      "source": [
        "image_files = [\n",
        "  'allan-ramsay_lady-susan-fox-strangways-1761.jpg',\n",
        "  'download.jpg',  \n",
        "]"
      ],
      "metadata": {
        "id": "g3MSE48oef4O"
      },
      "execution_count": null,
      "outputs": []
    },
    {
      "cell_type": "code",
      "source": [
        "show_images(image_files, num_cols=2, figsize=(10,20))"
      ],
      "metadata": {
        "colab": {
          "base_uri": "https://localhost:8080/",
          "height": 229
        },
        "id": "_Z3ZCi-qyALv",
        "outputId": "298173ef-6611-4597-c255-56b61ba4983b"
      },
      "execution_count": null,
      "outputs": [
        {
          "output_type": "display_data",
          "data": {
            "text/plain": [
              "<Figure size 432x288 with 2 Axes>"
            ],
            "image/png": "[encoded data removed]"
          },
          "metadata": {
            "needs_background": "light"
          }
        }
      ]
    },
    {
      "cell_type": "markdown",
      "source": [
        "# Step 4 - Get your captions!"
      ],
      "metadata": {
        "id": "nvSQZtvh7yNH"
      }
    },
    {
      "cell_type": "code",
      "source": [
        "captions_predicted, attn_weights = get_captions(speaker, data_loaders, image_files)\n",
        "print(captions_predicted)"
      ],
      "metadata": {
        "colab": {
          "base_uri": "https://localhost:8080/"
        },
        "id": "Bl7LOvqp0rzt",
        "outputId": "38a74d80-93a3-4c71-9b43-208ebc788fb5"
      },
      "execution_count": null,
      "outputs": [
        {
          "output_type": "stream",
          "name": "stderr",
          "text": [
            "100%|██████████| 2/2 [00:01<00:00,  1.23it/s]"
          ]
        },
        {
          "output_type": "stream",
          "name": "stdout",
          "text": [
            "['the woman looks like she is thinking about something', 'the animal looks like he is ready to attack']\n"
          ]
        },
        {
          "output_type": "stream",
          "name": "stderr",
          "text": [
            "\n"
          ]
        }
      ]
    },
    {
      "cell_type": "markdown",
      "source": [
        "# Step 5 - Captions with \"emotional grounding\"\n",
        "\n",
        "This particular model is able to take an emotion word as a \"prompt\" or grounding for it's caption, using one of the ARTEMIS emotion terms:\n",
        "\n",
        "```\n",
        "['amusement',\n",
        " 'awe',\n",
        " 'contentment',\n",
        " 'excitement',\n",
        " 'anger',\n",
        " 'disgust',\n",
        " 'fear',\n",
        " 'sadness',\n",
        " 'something else']\n",
        " ```"
      ],
      "metadata": {
        "id": "YjG8ttvG7-9o"
      }
    },
    {
      "cell_type": "code",
      "source": [
        "captions_predicted, attn_weights = get_captions(speaker, data_loaders, image_files,\n",
        "                                                grounding_emotions='sadness')\n",
        "print(captions_predicted)"
      ],
      "metadata": {
        "colab": {
          "base_uri": "https://localhost:8080/"
        },
        "id": "D_oRbk7QcygA",
        "outputId": "3854454d-0509-4c1f-c124-b96d674eaa29"
      },
      "execution_count": null,
      "outputs": [
        {
          "output_type": "stream",
          "name": "stderr",
          "text": [
            "100%|██████████| 2/2 [00:01<00:00,  1.55it/s]"
          ]
        },
        {
          "output_type": "stream",
          "name": "stdout",
          "text": [
            "['the woman looks sad and lonely', 'the animal looks like he is in pain']\n"
          ]
        },
        {
          "output_type": "stream",
          "name": "stderr",
          "text": [
            "\n"
          ]
        }
      ]
    },
    {
      "cell_type": "code",
      "source": [
        ""
      ],
      "metadata": {
        "id": "vQmryicZdctn"
      },
      "execution_count": null,
      "outputs": []
    },
    {
      "cell_type": "code",
      "source": [
        ""
      ],
      "metadata": {
        "id": "SbVgDhN0bINJ"
      },
      "execution_count": null,
      "outputs": []
    },
    {
      "cell_type": "code",
      "source": [
        ""
      ],
      "metadata": {
        "id": "5B5Hmz8Moj5y"
      },
      "execution_count": null,
      "outputs": []
    },
    {
      "cell_type": "code",
      "source": [
        ""
      ],
      "metadata": {
        "id": "2HuTkgQZaXj-"
      },
      "execution_count": null,
      "outputs": []
    }
  ]
}